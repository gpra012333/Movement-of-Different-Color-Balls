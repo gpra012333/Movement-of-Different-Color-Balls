{
 "cells": [
  {
   "cell_type": "code",
   "execution_count": 1,
   "id": "c34f4ae2-59ba-454d-a066-5e30c3d046f4",
   "metadata": {},
   "outputs": [],
   "source": [
    "import cv2\n",
    "import numpy as np\n",
    "import datetime"
   ]
  },
  {
   "cell_type": "code",
   "execution_count": 2,
   "id": "7a209a0e-7fea-4ba5-a63d-2aa838f68662",
   "metadata": {},
   "outputs": [],
   "source": [
    "# Define color ranges for ball detection (in HSV color space)\n",
    "color_ranges = {\n",
    "        'Red': ((0, 100, 100), (10, 255, 255)),\n",
    "        'Green': ((40, 100, 100), (70, 255, 255)),\n",
    "        'Blue': ((100, 100, 100), (130, 255, 255)),\n",
    "        'Yellow': ((20, 100, 100), (30, 255, 255)),\n",
    "        'White': ((0, 0, 200), (180, 30, 255))\n",
    "    }"
   ]
  },
  {
   "cell_type": "code",
   "execution_count": 3,
   "id": "8fa26b31-86f0-486a-9a79-af8b5d577482",
   "metadata": {},
   "outputs": [],
   "source": [
    "# Load video\n",
    "video_path = 'AI.mp4'\n",
    "cap = cv2.VideoCapture(video_path)"
   ]
  },
  {
   "cell_type": "code",
   "execution_count": 4,
   "id": "43d839e1-5ff8-469f-bed0-d83ddd046853",
   "metadata": {},
   "outputs": [],
   "source": [
    "# Get video properties\n",
    "fps = cap.get(cv2.CAP_PROP_FPS)\n",
    "frame_width = int(cap.get(cv2.CAP_PROP_FRAME_WIDTH))\n",
    "frame_height = int(cap.get(cv2.CAP_PROP_FRAME_HEIGHT))\n",
    "num_quadrants_x = 2\n",
    "num_quadrants_y = 2\n",
    "quad_width = frame_width // num_quadrants_x\n",
    "quad_height = frame_height // num_quadrants_y"
   ]
  },
  {
   "cell_type": "code",
   "execution_count": 5,
   "id": "63eb2af7-8b1d-4ccd-8de8-222e1cd27b1e",
   "metadata": {},
   "outputs": [],
   "source": [
    "# Initialize variables\n",
    "tracked_objects = {}\n",
    "event_log = []\n",
    "output_video_path = 'output_video.mp4'\n",
    "out = cv2.VideoWriter(output_video_path, cv2.VideoWriter_fourcc(*'mp4v'), fps, (frame_width, frame_height))"
   ]
  },
  {
   "cell_type": "code",
   "execution_count": 6,
   "id": "dd673fc0-3100-4e65-b250-5316910ae92f",
   "metadata": {},
   "outputs": [],
   "source": [
    "def get_quadrant(x, y, width, height):\n",
    "    quad_x = x // quad_width + 1\n",
    "    quad_y = y // quad_height + 1\n",
    "    return (quad_y - 1) * num_quadrants_x + quad_x"
   ]
  },
  {
   "cell_type": "code",
   "execution_count": 7,
   "id": "8e9c1ae7-2a94-498d-b15d-4d6e33466d05",
   "metadata": {},
   "outputs": [
    {
     "name": "stdout",
     "output_type": "stream",
     "text": [
      "Processing complete. Output saved.\n"
     ]
    }
   ],
   "source": [
    "while cap.isOpened():\n",
    "    ret, frame = cap.read()\n",
    "    if not ret:\n",
    "        break\n",
    "    \n",
    "    timestamp = cap.get(cv2.CAP_PROP_POS_MSEC) / 1000.0  # Timestamp in seconds\n",
    "    hsv = cv2.cvtColor(frame, cv2.COLOR_BGR2HSV)\n",
    "    \n",
    "    for color_name, (lower, upper) in color_ranges.items():\n",
    "        mask = cv2.inRange(hsv, np.array(lower), np.array(upper))\n",
    "        contours, _ = cv2.findContours(mask, cv2.RETR_TREE, cv2.CHAIN_APPROX_SIMPLE)\n",
    "        \n",
    "        for contour in contours:\n",
    "            if cv2.contourArea(contour) > 500:\n",
    "                x, y, w, h = cv2.boundingRect(contour)\n",
    "                cx, cy = x + w // 2, y + h // 2\n",
    "                quad = get_quadrant(cx, cy, frame_width, frame_height)\n",
    "                \n",
    "                if color_name not in tracked_objects:\n",
    "                    tracked_objects[color_name] = {'position': (cx, cy), 'quadrant': quad}\n",
    "                    event_log.append(f\"{timestamp}, {quad}, {color_name}, Entry\")\n",
    "                else:\n",
    "                    prev_quad = tracked_objects[color_name]['quadrant']\n",
    "                    if quad != prev_quad:\n",
    "                        event_log.append(f\"{timestamp}, {prev_quad}, {color_name}, Exit\")\n",
    "                        event_log.append(f\"{timestamp}, {quad}, {color_name}, Entry\")\n",
    "                        tracked_objects[color_name]['quadrant'] = quad\n",
    "                cv2.circle(frame, (cx, cy), 10, (0, 255, 0), -1)\n",
    "                cv2.putText(frame, f\"{color_name} - {quad}\", (x, y - 10), cv2.FONT_HERSHEY_SIMPLEX, 0.5, (0, 255, 0), 2)\n",
    "    \n",
    "    out.write(frame)\n",
    "\n",
    "cap.release()\n",
    "out.release()\n",
    "\n",
    "# Write event log to file\n",
    "with open('event_log.txt', 'w') as f:\n",
    "    for event in event_log:\n",
    "        f.write(event + '\\n')\n",
    "\n",
    "print(\"Processing complete. Output saved.\")\n"
   ]
  },
  {
   "cell_type": "code",
   "execution_count": null,
   "id": "e9088f9a-d05a-4c74-9e6d-843180fbf10c",
   "metadata": {},
   "outputs": [],
   "source": []
  }
 ],
 "metadata": {
  "kernelspec": {
   "display_name": "Python 3 (ipykernel)",
   "language": "python",
   "name": "python3"
  },
  "language_info": {
   "codemirror_mode": {
    "name": "ipython",
    "version": 3
   },
   "file_extension": ".py",
   "mimetype": "text/x-python",
   "name": "python",
   "nbconvert_exporter": "python",
   "pygments_lexer": "ipython3",
   "version": "3.11.5"
  }
 },
 "nbformat": 4,
 "nbformat_minor": 5
}
